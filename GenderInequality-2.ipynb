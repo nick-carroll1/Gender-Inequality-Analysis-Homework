{
  "cells": [
    {
      "cell_type": "markdown",
      "metadata": {
        "id": "1r8LB1JcInWa"
      },
      "source": [
        "Nick Carroll, Yueyin Su\n",
        "<br>\n",
        "Unifying Data Science\n",
        "<br>\n",
        "Estimating Gender Discrimination in the Workplace"
      ]
    },
    {
      "cell_type": "markdown",
      "metadata": {
        "id": "M_FyCVbwInWf"
      },
      "source": [
        "Exercise 1: Loading Data"
      ]
    },
    {
      "cell_type": "code",
      "execution_count": 1,
      "metadata": {
        "id": "J1gnFWvQInWg"
      },
      "outputs": [],
      "source": [
        "import pandas as pd\n",
        "data = pd.read_stata('https://github.com/nickeubank/MIDS_Data/raw/master/Current_Population_Survey/morg18.dta')"
      ]
    },
    {
      "cell_type": "markdown",
      "metadata": {
        "id": "VgWxGGDlInWj"
      },
      "source": [
        "Exercise 2: Subsetting Data"
      ]
    },
    {
      "cell_type": "markdown",
      "metadata": {
        "id": "XdHHmbupInWl"
      },
      "source": [
        "Data is subset for people who are full time and employed."
      ]
    },
    {
      "cell_type": "code",
      "execution_count": 2,
      "metadata": {
        "id": "YYCOd47uInWm"
      },
      "outputs": [],
      "source": [
        "subset = data.loc[(data.loc[:, 'lfsr94'] == 'Employed-At Work') & (data.loc[:, 'uhourse'] >= 35), :]"
      ]
    },
    {
      "cell_type": "markdown",
      "metadata": {
        "id": "AWkkAEsqInWn"
      },
      "source": [
        "Exercise 3: Basic Wage Gap Estimate"
      ]
    },
    {
      "cell_type": "code",
      "execution_count": 11,
      "metadata": {
        "id": "cPEUXaBTInWo",
        "outputId": "afa62107-5598-41dc-dad7-77b752c4a73d"
      },
      "outputs": [
        {
          "name": "stdout",
          "output_type": "stream",
          "text": [
            "In the subset data, there are  11,211 missing values associated with weekly earnings.   7,946 of those values belong to men, and  3,265 belong to women.\n"
          ]
        }
      ],
      "source": [
        "print(f\"In the subset data, there are {subset.loc[:, 'earnwke'].isna().sum(): ,} missing values associated with weekly earnings.  {subset.loc[subset.loc[:, 'sex'] == 1, 'earnwke'].isna().sum(): ,} of those values belong to men, and {subset.loc[subset.loc[:, 'sex'] == 2, 'earnwke'].isna().sum(): ,} belong to women.\")"
      ]
    },
    {
      "attachments": {},
      "cell_type": "markdown",
      "metadata": {},
      "source": [
        "We are choosing to ignore the missing values in the further analysis."
      ]
    },
    {
      "cell_type": "code",
      "execution_count": 4,
      "metadata": {
        "id": "AGBB9bzSInWq"
      },
      "outputs": [],
      "source": [
        "%%capture --no-display\n",
        "subset.loc[:, 'average hourly rate'] = subset.loc[:, 'earnwke'] / subset.loc[:, 'uhourse']"
      ]
    },
    {
      "cell_type": "code",
      "execution_count": 5,
      "metadata": {
        "id": "LTSDrrh6InWr"
      },
      "outputs": [],
      "source": [
        "men_subset = subset.loc[subset.loc[:, 'sex'] == 1]\n",
        "women_subset = subset.loc[subset.loc[:, 'sex'] == 2]"
      ]
    },
    {
      "cell_type": "code",
      "execution_count": 17,
      "metadata": {
        "colab": {
          "base_uri": "https://localhost:8080/"
        },
        "id": "iXtLENt-InWs",
        "outputId": "fdee94f5-316d-4000-c1d9-53fb5850ca14"
      },
      "outputs": [
        {
          "name": "stdout",
          "output_type": "stream",
          "text": [
            "The average gender wage gap is: $ 4.08 per hour, or $ 219.05 per week.\n",
            "Therefore, on average men tend to make  17.14% more per hour, or  22.22% more per week than women.\n"
          ]
        }
      ],
      "source": [
        "print(f\"The average gender wage gap is: ${men_subset.loc[:, 'average hourly rate'].mean() - women_subset.loc[:, 'average hourly rate'].mean(): .2f} per hour, or ${men_subset.loc[:, 'earnwke'].mean() - women_subset.loc[:, 'earnwke'].mean(): .2f} per week.\")\n",
        "print(f\"Therefore, on average men tend to make {(men_subset.loc[:, 'average hourly rate'].mean() / women_subset.loc[:, 'average hourly rate'].mean() - 1) * 100: .2f}% more per hour, or {100 * (men_subset.loc[:, 'earnwke'].mean() / women_subset.loc[:, 'earnwke'].mean() - 1): .2f}% more per week than women.\")"
      ]
    },
    {
      "attachments": {},
      "cell_type": "markdown",
      "metadata": {},
      "source": [
        "Exercise 4: Comparing Annual Earnings Wage Gap"
      ]
    },
    {
      "cell_type": "code",
      "execution_count": 25,
      "metadata": {
        "id": "k5zE5qzmInWu"
      },
      "outputs": [
        {
          "name": "stdout",
          "output_type": "stream",
          "text": [
            "Assuming a 40 hour work week, and a 48 work year, the average anunal gender wage gap is: $7,833.93.\n",
            "Therefore, on average men tend to make  17.14% more than women.\n"
          ]
        }
      ],
      "source": [
        "print(f\"Assuming a 40 hour work week, and a 48 work year, the average anunal gender wage gap is: ${(men_subset.loc[:, 'average hourly rate'].mean() - women_subset.loc[:, 'average hourly rate'].mean()) * 40 * 48:,.2f}.\")\n",
        "print(f\"Therefore, on average men tend to make {(men_subset.loc[:, 'average hourly rate'].mean() / women_subset.loc[:, 'average hourly rate'].mean() - 1) * 100: .2f}% more than women.\")"
      ]
    },
    {
      "attachments": {},
      "cell_type": "markdown",
      "metadata": {},
      "source": [
        "Exercise 5: Comparing the Causal Relationship between Gender and Earnings."
      ]
    },
    {
      "attachments": {},
      "cell_type": "markdown",
      "metadata": {},
      "source": [
        "In order for this to be an accurate causal estimate, these two groups must be identical in their attributes that are associated with earnings besides gender (i.e. education level, experience, motivation, performance), or they must be a randomized selection of groups where the other effects cancel out.  One reason why this may not be an accurate causal estimate is because this data is survey data, and relies on the accuracy of the people who respond to be representative of the actual population.  For example, there may be many men in their sixties who still consider themselves working full-time, but the women in their sixties may be fewer and may work less than full-time, so it doesn't give an accurate representation."
      ]
    },
    {
      "attachments": {},
      "cell_type": "markdown",
      "metadata": {},
      "source": [
        "Exercise 6: Regression of Wage Earnings on Gender and Age"
      ]
    },
    {
      "cell_type": "code",
      "execution_count": 59,
      "metadata": {},
      "outputs": [
        {
          "name": "stdout",
          "output_type": "stream",
          "text": [
            "                            OLS Regression Results                            \n",
            "==============================================================================\n",
            "Dep. Variable:                      y   R-squared:                       0.073\n",
            "Model:                            OLS   Adj. R-squared:                  0.073\n",
            "Method:                 Least Squares   F-statistic:                     3199.\n",
            "Date:                Fri, 17 Feb 2023   Prob (F-statistic):               0.00\n",
            "Time:                        16:47:10   Log-Likelihood:            -5.0447e+05\n",
            "No. Observations:              122603   AIC:                         1.009e+06\n",
            "Df Residuals:                  122599   BIC:                         1.009e+06\n",
            "Df Model:                           3                                         \n",
            "Covariance Type:            nonrobust                                         \n",
            "===============================================================================\n",
            "                  coef    std err          t      P>|t|      [0.025      0.975]\n",
            "-------------------------------------------------------------------------------\n",
            "const           2.1715      0.433      5.020      0.000       1.324       3.019\n",
            "sex            -4.1821      0.085    -49.200      0.000      -4.349      -4.016\n",
            "age             1.2540      0.020     63.333      0.000       1.215       1.293\n",
            "age squared    -0.0118      0.000    -53.267      0.000      -0.012      -0.011\n",
            "==============================================================================\n",
            "Omnibus:                    21189.072   Durbin-Watson:                   1.735\n",
            "Prob(Omnibus):                  0.000   Jarque-Bera (JB):            34847.946\n",
            "Skew:                           1.176   Prob(JB):                         0.00\n",
            "Kurtosis:                       4.136   Cond. No.                     2.39e+04\n",
            "==============================================================================\n",
            "\n",
            "Notes:\n",
            "[1] Standard Errors assume that the covariance matrix of the errors is correctly specified.\n",
            "[2] The condition number is large, 2.39e+04. This might indicate that there are\n",
            "strong multicollinearity or other numerical problems.\n"
          ]
        },
        {
          "name": "stderr",
          "output_type": "stream",
          "text": [
            "C:\\Users\\nicho\\AppData\\Local\\Temp\\ipykernel_7436\\1714112772.py:3: SettingWithCopyWarning: \n",
            "A value is trying to be set on a copy of a slice from a DataFrame.\n",
            "Try using .loc[row_indexer,col_indexer] = value instead\n",
            "\n",
            "See the caveats in the documentation: https://pandas.pydata.org/pandas-docs/stable/user_guide/indexing.html#returning-a-view-versus-a-copy\n",
            "  subset.loc[:, 'age squared'] = subset.loc[:, 'age'].astype('int32') ** 2\n"
          ]
        }
      ],
      "source": [
        "import statsmodels.api as sm\n",
        "\n",
        "subset.loc[:, 'age squared'] = subset.loc[:, 'age'].astype('int32') ** 2\n",
        "dropped_subset = subset.loc[:, ['sex', 'age', 'age squared', 'average hourly rate']].dropna()\n",
        "y = dropped_subset.loc[:, 'average hourly rate'].to_numpy()\n",
        "X = dropped_subset.loc[:, ['sex', 'age', 'age squared']]\n",
        "X = sm.add_constant(X)\n",
        "model = sm.OLS(y, X)\n",
        "results = model.fit()\n",
        "print(results.summary())"
      ]
    },
    {
      "cell_type": "code",
      "execution_count": 71,
      "metadata": {},
      "outputs": [
        {
          "name": "stdout",
          "output_type": "stream",
          "text": [
            "According to the linear regression, accounting for age, the average gender wage gap is $ 4.18 / hour.\n"
          ]
        }
      ],
      "source": [
        "print(f\"According to the linear regression, accounting for age, the average gender wage gap is ${abs(results.params['sex']): .2f} / hour.\")"
      ]
    },
    {
      "attachments": {},
      "cell_type": "markdown",
      "metadata": {},
      "source": [
        "The hourly gender wage gap from the linear regression accounting for age is fairly similar to the baseline estimate for comparing the average hourly wage gap between men and women."
      ]
    },
    {
      "attachments": {},
      "cell_type": "markdown",
      "metadata": {},
      "source": [
        "Exercise 7: Understanding the Implication of the Regression."
      ]
    },
    {
      "attachments": {},
      "cell_type": "markdown",
      "metadata": {},
      "source": [
        "The implicit comparison being made in this regression is the assumption that if an average man were to \"become\" female his wage would drop by $ 4.18 / hour.  We are comparing two groups that are theoretically identical in every way, except that one is male and one is female."
      ]
    },
    {
      "attachments": {},
      "cell_type": "markdown",
      "metadata": {},
      "source": [
        "Exercise 8: Labeling Education Levels"
      ]
    },
    {
      "cell_type": "code",
      "execution_count": 75,
      "metadata": {},
      "outputs": [
        {
          "name": "stderr",
          "output_type": "stream",
          "text": [
            "C:\\Users\\nicho\\AppData\\Local\\Temp\\ipykernel_7436\\3404292635.py:1: SettingWithCopyWarning: \n",
            "A value is trying to be set on a copy of a slice from a DataFrame.\n",
            "Try using .loc[row_indexer,col_indexer] = value instead\n",
            "\n",
            "See the caveats in the documentation: https://pandas.pydata.org/pandas-docs/stable/user_guide/indexing.html#returning-a-view-versus-a-copy\n",
            "  subset.loc[:, 'High School Graduate'] = subset.loc[:, 'grade92'].apply(lambda x: 1 if x >= 39 else 0)\n",
            "C:\\Users\\nicho\\AppData\\Local\\Temp\\ipykernel_7436\\3404292635.py:2: SettingWithCopyWarning: \n",
            "A value is trying to be set on a copy of a slice from a DataFrame.\n",
            "Try using .loc[row_indexer,col_indexer] = value instead\n",
            "\n",
            "See the caveats in the documentation: https://pandas.pydata.org/pandas-docs/stable/user_guide/indexing.html#returning-a-view-versus-a-copy\n",
            "  subset.loc[:, 'College Graduate'] = subset.loc[:, 'grade92'].apply(lambda x: 1 if x >= 43 else 0)\n"
          ]
        }
      ],
      "source": [
        "subset.loc[:, 'High School Graduate'] = subset.loc[:, 'grade92'].apply(lambda x: 1 if x >= 39 else 0)\n",
        "subset.loc[:, 'College Graduate'] = subset.loc[:, 'grade92'].apply(lambda x: 1 if x >= 43 else 0)"
      ]
    },
    {
      "attachments": {},
      "cell_type": "markdown",
      "metadata": {},
      "source": [
        "Exercise 9: Regressing on Gender, Age, and Education Graduate Level"
      ]
    },
    {
      "cell_type": "code",
      "execution_count": 81,
      "metadata": {},
      "outputs": [
        {
          "name": "stdout",
          "output_type": "stream",
          "text": [
            "                            OLS Regression Results                            \n",
            "==============================================================================\n",
            "Dep. Variable:                      y   R-squared:                       0.264\n",
            "Model:                            OLS   Adj. R-squared:                  0.264\n",
            "Method:                 Least Squares   F-statistic:                     8793.\n",
            "Date:                Fri, 17 Feb 2023   Prob (F-statistic):               0.00\n",
            "Time:                        17:06:59   Log-Likelihood:            -4.9031e+05\n",
            "No. Observations:              122603   AIC:                         9.806e+05\n",
            "Df Residuals:                  122597   BIC:                         9.807e+05\n",
            "Df Model:                           5                                         \n",
            "Covariance Type:            nonrobust                                         \n",
            "========================================================================================\n",
            "                           coef    std err          t      P>|t|      [0.025      0.975]\n",
            "----------------------------------------------------------------------------------------\n",
            "const                   -2.5007      0.410     -6.095      0.000      -3.305      -1.697\n",
            "sex                     -5.2759      0.076    -69.412      0.000      -5.425      -5.127\n",
            "age                      1.0070      0.018     56.903      0.000       0.972       1.042\n",
            "age squared             -0.0091      0.000    -45.738      0.000      -0.009      -0.009\n",
            "High School Graduate     6.5278      0.162     40.227      0.000       6.210       6.846\n",
            "College Graduate        12.7862      0.079    162.027      0.000      12.632      12.941\n",
            "==============================================================================\n",
            "Omnibus:                    17656.758   Durbin-Watson:                   1.849\n",
            "Prob(Omnibus):                  0.000   Jarque-Bera (JB):            29560.069\n",
            "Skew:                           0.972   Prob(JB):                         0.00\n",
            "Kurtosis:                       4.416   Cond. No.                     2.57e+04\n",
            "==============================================================================\n",
            "\n",
            "Notes:\n",
            "[1] Standard Errors assume that the covariance matrix of the errors is correctly specified.\n",
            "[2] The condition number is large, 2.57e+04. This might indicate that there are\n",
            "strong multicollinearity or other numerical problems.\n"
          ]
        }
      ],
      "source": [
        "dropped_subset2 = subset.loc[:, ['sex', 'age', 'age squared', 'average hourly rate', 'High School Graduate', 'College Graduate']].dropna()\n",
        "y2 = dropped_subset2.loc[:, 'average hourly rate'].to_numpy()\n",
        "X2 = dropped_subset2.loc[:, ['sex', 'age', 'age squared', 'High School Graduate', 'College Graduate']]\n",
        "X2 = sm.add_constant(X2)\n",
        "model2 = sm.OLS(y2, X2)\n",
        "results2 = model2.fit()\n",
        "print(results2.summary())"
      ]
    },
    {
      "cell_type": "code",
      "execution_count": 82,
      "metadata": {},
      "outputs": [
        {
          "name": "stdout",
          "output_type": "stream",
          "text": [
            "According to the linear regression, accounting for age and graduated education level, the average gender wage gap is $ 5.28 / hour.\n"
          ]
        }
      ],
      "source": [
        "print(f\"According to the linear regression, accounting for age and graduated education level, the average gender wage gap is ${abs(results2.params['sex']): .2f} / hour.\")"
      ]
    },
    {
      "attachments": {},
      "cell_type": "markdown",
      "metadata": {},
      "source": [
        "Exercise 10: Comparing Education Impact on Wage Gap Regression"
      ]
    },
    {
      "attachments": {},
      "cell_type": "markdown",
      "metadata": {},
      "source": [
        "Based on the comparison of the wage gap between regressions which do and do not account for education, the education for the women in the dataset is generally higher than the education for the men in this dataset."
      ]
    },
    {
      "attachments": {},
      "cell_type": "markdown",
      "metadata": {},
      "source": [
        "Exercise 11: Potential Outcomes for Men and Women without Education"
      ]
    },
    {
      "attachments": {},
      "cell_type": "markdown",
      "metadata": {},
      "source": [
        "The Potential Outcomes for men and women before adding education as a control underestimates the wage gap because education is strongly correlated with earnings."
      ]
    },
    {
      "attachments": {},
      "cell_type": "markdown",
      "metadata": {},
      "source": [
        "Exercise 12: Accounting for Fixed Effects"
      ]
    },
    {
      "cell_type": "code",
      "execution_count": 101,
      "metadata": {},
      "outputs": [
        {
          "name": "stdout",
          "output_type": "stream",
          "text": [
            "                            OLS Regression Results                            \n",
            "==============================================================================\n",
            "Dep. Variable:                      y   R-squared:                       0.311\n",
            "Model:                            OLS   Adj. R-squared:                  0.310\n",
            "Method:                 Least Squares   F-statistic:                     210.4\n",
            "Date:                Fri, 17 Feb 2023   Prob (F-statistic):               0.00\n",
            "Time:                        17:28:36   Log-Likelihood:            -4.8621e+05\n",
            "No. Observations:              122603   AIC:                         9.730e+05\n",
            "Df Residuals:                  122339   BIC:                         9.755e+05\n",
            "Df Model:                         263                                         \n",
            "Covariance Type:            nonrobust                                         \n",
            "================================================================================================================================================================================\n",
            "                                                                                                                   coef    std err          t      P>|t|      [0.025      0.975]\n",
            "--------------------------------------------------------------------------------------------------------------------------------------------------------------------------------\n",
            "const                                                                                                           -0.1798      0.414     -0.435      0.664      -0.991       0.631\n",
            "sex                                                                                                             -4.5423      0.083    -54.822      0.000      -4.705      -4.380\n",
            "age                                                                                                              0.9163      0.017     52.981      0.000       0.882       0.950\n",
            "age squared                                                                                                     -0.0081      0.000    -41.996      0.000      -0.009      -0.008\n",
            "High School Graduate                                                                                             5.2157      0.161     32.313      0.000       4.899       5.532\n",
            "College Graduate                                                                                                11.3270      0.084    134.482      0.000      11.162      11.492\n",
            "Crop production (111)                                                                                           -4.2024      0.518     -8.109      0.000      -5.218      -3.187\n",
            "Animal production (112)                                                                                         -5.2905      0.623     -8.489      0.000      -6.512      -4.069\n",
            "Forestry except logging (1131, 1132)                                                                            -1.8545      1.674     -1.108      0.268      -5.135       1.426\n",
            "Logging (1133)                                                                                                  -2.2265      1.316     -1.691      0.091      -4.807       0.354\n",
            "Fishing, hunting, and trapping (114)                                                                            -2.3217      2.067     -1.123      0.261      -6.373       1.730\n",
            "Support activities for agriculture and forestry (115)                                                           -1.0859      1.196     -0.908      0.364      -3.430       1.258\n",
            "Oil and gas extraction (211)                                                                                     9.0937      1.352      6.725      0.000       6.443      11.744\n",
            "Coal mining (2121)                                                                                               6.1611      1.088      5.665      0.000       4.029       8.293\n",
            "Metal ore mining (2122)                                                                                          5.4610      1.900      2.874      0.004       1.737       9.185\n",
            "Nonmetallic mineral mining and quarrying (2123)                                                                  2.3876      1.004      2.377      0.017       0.419       4.356\n",
            "Support activities for mining (213)                                                                              4.2956      0.502      8.560      0.000       3.312       5.279\n",
            "Electric power generation, transmission and distribution (Pt. 2211)                                              7.2544      0.448     16.183      0.000       6.376       8.133\n",
            "Natural gas distribution (Pt.s2212)                                                                              4.0334      1.050      3.841      0.000       1.975       6.091\n",
            "Electric and gas, and other combinations (Pts. 2211, 2212)                                                       5.1525      1.156      4.458      0.000       2.887       7.418\n",
            "Water, steam, air-conditioning, and irrigation systems (22131, 22133)                                            0.1695      0.783      0.217      0.829      -1.364       1.703\n",
            "Sewage treatment facilities (22132)                                                                              1.1034      1.316      0.838      0.402      -1.476       3.683\n",
            "Not specified utilities (Part of 22)                                                                             8.0977      2.716      2.982      0.003       2.775      13.420\n",
            "** Construction (23)                                                                                             1.5638      0.167      9.377      0.000       1.237       1.891\n",
            "Animal food, grain and oilseed milling (3111, 3112)                                                              0.3053      0.983      0.310      0.756      -1.622       2.232\n",
            "Sugar and confectionery products (3113)                                                                         -0.7535      1.360     -0.554      0.579      -3.419       1.912\n",
            "Fruit and vegetable preserving and specialty food manufacturing (3114)                                          -2.3267      1.040     -2.238      0.025      -4.364      -0.289\n",
            "Dairy product manufacturing (3115)                                                                              -0.9520      0.904     -1.053      0.293      -2.725       0.821\n",
            "Animal slaughtering and processing (3116)                                                                       -3.9326      0.525     -7.487      0.000      -4.962      -2.903\n",
            "Retail bakeries (311811)                                                                                        -4.0625      1.037     -3.919      0.000      -6.094      -2.031\n",
            "Bakeries, except retail (3118 exc. 311811)                                                                      -2.8602      0.983     -2.909      0.004      -4.787      -0.933\n",
            "Seafood and other miscellaneous foods, n.e.c. (3117, 3119)                                                       0.3882      0.907      0.428      0.668      -1.389       2.165\n",
            "Not specified food industries (Part of 311)                                                                     -2.8290      1.646     -1.719      0.086      -6.055       0.397\n",
            "Beverage manufacturing (3121)                                                                                    0.3149      0.768      0.410      0.682      -1.191       1.821\n",
            "Tobacco manufacturing (3122)                                                                                     3.0646      3.404      0.900      0.368      -3.607       9.736\n",
            "Fiber, yarn, and thread mills (3131)                                                                            -3.2315      4.027     -0.802      0.422     -11.124       4.661\n",
            "Fabric mills, except knitting (3132 exc. 31324)                                                                 -1.3481      1.400     -0.963      0.336      -4.092       1.396\n",
            "Textile and fabric finishing and coating mills (3133)                                                           -1.3857      3.840     -0.361      0.718      -8.912       6.140\n",
            "Carpet and rug mills (31411)                                                                                    -2.1765      1.689     -1.289      0.197      -5.486       1.133\n",
            "Textile product mills, except carpets and rugs (314 exc. 31411)                                                 -1.1283      1.503     -0.751      0.453      -4.074       1.817\n",
            "Knitting mills (31324, 3151)                                                                                    -5.8373      2.922     -1.998      0.046     -11.565      -0.110\n",
            "Cut and sew apparel manufacturing (3152)                                                                        -1.7826      1.054     -1.691      0.091      -3.849       0.284\n",
            "Apparel accessories and other apparel manufacturing (3159)                                                      -2.5471      4.245     -0.600      0.548     -10.867       5.773\n",
            "Footwear manufacturing (3162)                                                                                    3.8610      2.452      1.575      0.115      -0.944       8.666\n",
            "Leather tanning and products, except footwear manufacturing (3161, 3169)                                        -3.8868      2.848     -1.365      0.172      -9.469       1.696\n",
            "Pulp, paper, and paperboard mills (3221)                                                                         2.0153      0.851      2.367      0.018       0.347       3.684\n",
            "Paperboard containers and boxes (32221)                                                                         -1.0974      1.316     -0.834      0.404      -3.677       1.482\n",
            "Miscellaneous paper and pulp products (32222,32223, 32229)                                                      -0.6476      1.513     -0.428      0.669      -3.614       2.319\n",
            "Printing and related support activities (3231)                                                                  -1.3538      0.627     -2.159      0.031      -2.583      -0.125\n",
            "Petroleum refining (32411)                                                                                       8.1626      0.921      8.866      0.000       6.358       9.967\n",
            "Miscellaneous petroleum and coal products (32419)                                                                1.1297      2.498      0.452      0.651      -3.767       6.026\n",
            "Resin, synthetic rubber and fibers, and filaments manufacturing (3252)                                          -0.3692      1.013     -0.364      0.716      -2.355       1.617\n",
            "Agricultural chemical manufacturing (3253)                                                                       5.4096      2.040      2.651      0.008       1.410       9.409\n",
            "Pharmaceutical and medicine manufacturing (3254)                                                                 7.6590      0.556     13.779      0.000       6.570       8.748\n",
            "Paint, coating, and adhesive manufacturing B46 (3255)                                                            3.5026      1.606      2.180      0.029       0.354       6.651\n",
            "Soap, cleaning compound, and cosmetics manufacturing (3256)                                                      2.3017      1.234      1.866      0.062      -0.116       4.720\n",
            "Industrial and miscellaneous chemicals (3251, 3259)                                                              4.6237      0.612      7.550      0.000       3.423       5.824\n",
            "Plastics product manufacturing (3261)                                                                           -1.7815      0.682     -2.611      0.009      -3.118      -0.444\n",
            "Tire manufacturing (32621)                                                                                       2.8934      1.632      1.773      0.076      -0.306       6.093\n",
            "Rubber products, except tires, manufacturing (32622, 32629)                                                     -1.1461      1.384     -0.828      0.407      -3.858       1.566\n",
            "Pottery, ceramics, and related products manufacturing (32711)                                                   -1.5980      2.780     -0.575      0.565      -7.046       3.850\n",
            "Structural clay product manufacturing (32712)                                                                   -4.8636      2.600     -1.870      0.061      -9.960       0.233\n",
            "Glass and glass product manufacturing (3272)                                                                    -2.2462      1.120     -2.006      0.045      -4.441      -0.051\n",
            "Cement, concrete, lime, and gypsum product manufacturing (3273, 3274)                                           -0.7943      0.896     -0.887      0.375      -2.550       0.961\n",
            "Miscellaneous nonmetallic mineral product manufacturing (3279)                                                  -1.8450      1.323     -1.394      0.163      -4.438       0.748\n",
            "Iron and steel mills and steel product manufacturing (3311, 3312)                                                1.1521      0.773      1.491      0.136      -0.363       2.667\n",
            "Aluminum production and processing (3313)                                                                        2.0731      1.594      1.301      0.193      -1.051       5.197\n",
            "Nonferrous metal, except aluminum, production and processing (3314)                                              0.7193      1.803      0.399      0.690      -2.814       4.252\n",
            "Foundries (3315)                                                                                                -1.1301      1.524     -0.741      0.458      -4.117       1.857\n",
            "Metal forgings and stampings (3321)                                                                             -3.4822      1.674     -2.080      0.038      -6.763      -0.201\n",
            "Cutlery and hand tool manufacturing (3322)                                                                       0.5630      2.252      0.250      0.803      -3.851       4.977\n",
            "Structural metals, and tank and shipping container manufacturing (3323, 3324)                                   -0.3182      0.698     -0.456      0.649      -1.687       1.050\n",
            "Machine shops; turned product; screw, nut and bolt manufacturing (3327)                                         -1.5048      0.776     -1.940      0.052      -3.025       0.016\n",
            "Coating, engraving, heat treating and allied activities (3328)                                                  -0.9700      1.493     -0.650      0.516      -3.896       1.956\n",
            "Ordnance (332992 to 332995)                                                                                      2.3114      1.513      1.527      0.127      -0.655       5.278\n",
            "Miscellaneous fabricated metal products manufacturing (3325, 3326, 3329 exc. 332992, 332993, 332994, 332995)    -0.7717      0.726     -1.063      0.288      -2.195       0.651\n",
            "Not specified metal industries (Part of 331 and 332)                                                            -2.2490      2.780     -0.809      0.419      -7.697       3.199\n",
            "Agricultural implement manufacturing (33311)                                                                     0.5853      1.076      0.544      0.586      -1.523       2.694\n",
            "Construction, mining and oil field machinery manufacturing (33312, 33313)                                        2.2729      0.966      2.352      0.019       0.379       4.167\n",
            "3095.0                                                                                                           2.8114      1.546      1.818      0.069      -0.219       5.842\n",
            "Metalworking machinery manufacturing (3335)                                                                     -0.5409      1.138     -0.475      0.634      -2.771       1.689\n",
            "Engines, turbines, and power transmission equipment manufacturing (3336)                                         0.6195      1.751      0.354      0.723      -2.812       4.051\n",
            "Machinery manufacturing, n.e.c. (3332, 3334, 3339)                                                               0.8363      0.499      1.677      0.094      -0.141       1.814\n",
            "3365.0                                                                                                           7.6970      0.953      8.075      0.000       5.829       9.565\n",
            "Communications, audio, and video equipment manufacturing (3342, 3343)                                            5.4718      1.206      4.537      0.000       3.108       7.836\n",
            "Navigational, measuring, electromedical, and control instruments manufacturing (3345)                            5.5787      0.861      6.481      0.000       3.892       7.266\n",
            "Electronic component and product manufacturing, n.e.c. (3344, 3346)                                              5.6349      0.515     10.940      0.000       4.625       6.644\n",
            "Household appliance manufacturing (3352)                                                                         1.0315      1.492      0.691      0.489      -1.894       3.957\n",
            "Electrical lighting, equipment, and supplies manufacturing, n.e.c. (3351, 3353, 3359)                            1.7891      0.710      2.519      0.012       0.397       3.181\n",
            "Motor vehicles and motor vehicle equipment manufacturing (3361, 3362, 3363)                                      0.3540      0.361      0.981      0.327      -0.354       1.061\n",
            "Aircraft and parts manufacturing (336411 to 336413)                                                              6.3356      0.461     13.752      0.000       5.433       7.239\n",
            "Aerospace products and parts manufacturing (336414, 336415, 336419)                                             12.0934      1.735      6.971      0.000       8.693      15.494\n",
            "Railroad rolling stock manufacturing (3365)                                                                      1.0099      2.326      0.434      0.664      -3.549       5.569\n",
            "Ship and boat building (3366)                                                                                    2.4485      0.907      2.700      0.007       0.671       4.226\n",
            "Other transportation equipment manufacturing (3369)                                                             -2.6194      2.095     -1.250      0.211      -6.725       1.486\n",
            "Sawmills and wood preservation (3211)                                                                           -1.6938      0.992     -1.707      0.088      -3.639       0.251\n",
            "Veneer, plywood, and engineered wood products (3212)                                                            -1.4872      2.067     -0.719      0.472      -5.539       2.565\n",
            "Prefabricated wood buildings and mobile homes (321991, 321992)                                                  -0.8233      1.880     -0.438      0.661      -4.507       2.861\n",
            "3875.0                                                                                                          -1.3280      0.923     -1.439      0.150      -3.137       0.481\n",
            "3895.0                                                                                                          -2.2916      0.658     -3.482      0.000      -3.582      -1.002\n",
            "Medical equipment and supplies manufacturing (3391)                                                              3.3240      0.535      6.217      0.000       2.276       4.372\n",
            "Toys, amusement, and sporting goods manufacturing (33992, 33993)                                                -1.9494      1.228     -1.587      0.112      -4.356       0.458\n",
            "Miscellaneous manufacturing, n.e.c. (3399 exc. 33992, 33993)                                                    -0.7657      0.616     -1.244      0.214      -1.972       0.441\n",
            "Not specified manufacturing industries (Part of 31, 32, 33)                                                     -1.7355      0.826     -2.100      0.036      -3.355      -0.116\n",
            "** Motor vehicles, parts and supplies, merchant wholesalers (*4231)                                              0.3607      1.023      0.353      0.724      -1.644       2.366\n",
            "** Furniture and home furnishing, merchant wholesalers (*4232)                                                  -2.3243      1.751     -1.328      0.184      -5.756       1.107\n",
            "** Lumber and other construction materials, merchant wholesalers (*4233)                                        -0.2375      1.016     -0.234      0.815      -2.230       1.755\n",
            "** Professional and commercial equipment and supplies, merchant wholesalers (*4234)                              3.8539      0.734      5.250      0.000       2.415       5.293\n",
            "** Metals and minerals, except petroleum, merchant wholesalers (*4235)                                          -3.1713      1.943     -1.632      0.103      -6.980       0.638\n",
            "4195.0                                                                                                           1.2230      0.909      1.346      0.178      -0.558       3.004\n",
            "4265.0                                                                                                          -0.5085      1.083     -0.469      0.639      -2.632       1.615\n",
            "** Machinery, equipment, and supplies, merchant wholesalers (*4238)                                              1.2322      0.697      1.768      0.077      -0.134       2.598\n",
            "** Recyclable material, merchant wholesalers (*42393)                                                           -3.3302      1.400     -2.378      0.017      -6.075      -0.585\n",
            "** Miscellaneous durable goods, merchant wholesalers (*4239 exc. 42393)                                          1.0052      1.719      0.585      0.559      -2.364       4.374\n",
            "** Paper and paper products, merchant wholesalers (*4241)                                                        1.0455      1.840      0.568      0.570      -2.560       4.651\n",
            "** Drugs, sundries, and chemical and allied products, merchant (wholesalerss*4242, 4246)                         4.3696      0.875      4.996      0.000       2.655       6.084\n",
            "** Apparel, fabrics, and notions, merchant wholesalers (*4243)                                                   0.6335      1.444      0.439      0.661      -2.197       3.464\n",
            "** Groceries and related products, merchant wholesalers (*4244)                                                 -1.8084      0.467     -3.871      0.000      -2.724      -0.893\n",
            "** Farm product raw materials, merchant wholesalers (*4245)                                                     -3.1261      1.323     -2.363      0.018      -5.719      -0.533\n",
            "** Petroleum and petroleum products, merchant wholesalers (*4247)                                                2.0531      1.026      2.001      0.045       0.042       4.064\n",
            "** Alcoholic beverages, merchant wholesalers (*4248)                                                            -1.6175      1.170     -1.382      0.167      -3.911       0.676\n",
            "** Farm supplies, merchant wholesalers (*42491)                                                                  0.4014      1.632      0.246      0.806      -2.798       3.601\n",
            "** Miscellaneous (nondurable goods, merchant wholesalerss*4249 exc. 42491)                                      -0.9976      1.083     -0.921      0.357      -3.121       1.126\n",
            "*** Wholesale electronic markets, agents and brokers New industry (*4251)                                       -2.6184      1.558     -1.681      0.093      -5.672       0.435\n",
            "**Not specified wholesale trade (Part of 42)                                                                    -3.1905      1.859     -1.716      0.086      -6.834       0.453\n",
            "Automobile dealers (4411)                                                                                       -0.9315      0.371     -2.511      0.012      -1.659      -0.205\n",
            "Other motor vehicle dealers (4412)                                                                              -0.1340      1.033     -0.130      0.897      -2.159       1.891\n",
            "Auto parts, accessories, and tire stores (4413)                                                                 -3.8782      0.610     -6.357      0.000      -5.074      -2.683\n",
            "Furniture and home furnishings stores (442)                                                                     -2.7490      0.635     -4.327      0.000      -3.994      -1.504\n",
            "Household appliance stores (443111)                                                                             -3.1645      1.674     -1.891      0.059      -6.445       0.116\n",
            "4795.0                                                                                                           0.9820      0.637      1.541      0.123      -0.267       2.231\n",
            "Building material and supplies dealers (4441 exc. 44413)                                                        -2.9130      0.441     -6.607      0.000      -3.777      -2.049\n",
            "Hardware stores (44413)                                                                                         -3.7953      1.001     -3.792      0.000      -5.757      -1.833\n",
            "Lawn and garden equipment and supplies stores (4442)                                                            -2.6816      0.838     -3.198      0.001      -4.325      -1.038\n",
            "Grocery stores (4451)                                                                                           -3.6172      0.315    -11.494      0.000      -4.234      -3.000\n",
            "Specialty food stores (4452)                                                                                    -1.6272      1.156     -1.408      0.159      -3.893       0.638\n",
            "Beer, wine, and liquor stores (4453)                                                                            -3.6797      1.444     -2.548      0.011      -6.510      -0.849\n",
            "Pharmacies and drug stores (44611)                                                                               1.5037      0.484      3.109      0.002       0.556       2.452\n",
            "Health and personal care, except drug, stores (446 exc. 44611)                                                   0.7991      0.765      1.045      0.296      -0.700       2.298\n",
            "Gasoline stations (447)                                                                                         -4.1866      0.679     -6.162      0.000      -5.518      -2.855\n",
            "Clothing and accessories, except shoe, stores (448 exc. 44821, 4483)                                            -1.6442      0.593     -2.773      0.006      -2.807      -0.482\n",
            "Shoe stores (44821)                                                                                             -1.9294      1.524     -1.266      0.206      -4.917       1.058\n",
            "Jewelry, luggage, and leather goods stores (4483)                                                               -3.8149      1.258     -3.034      0.002      -6.280      -1.350\n",
            "5275.0                                                                                                          -1.9913      0.745     -2.673      0.008      -3.451      -0.531\n",
            "Sewing, needlework, and piece goods stores (45113)                                                              -9.9011      3.288     -3.011      0.003     -16.346      -3.456\n",
            "5295.0                                                                                                          -4.5597      2.656     -1.717      0.086      -9.766       0.646\n",
            "Book stores and news dealers (45121)                                                                            -4.4636      1.751     -2.549      0.011      -7.895      -1.032\n",
            "****Department stores and discount stores (s45211)                                                              -3.8381      0.357    -10.748      0.000      -4.538      -3.138\n",
            "Miscellaneous general merchandise stores (4529)                                                                 -2.5852      0.663     -3.897      0.000      -3.885      -1.285\n",
            "Retail florists (4531)                                                                                          -5.3853      2.185     -2.464      0.014      -9.668      -1.102\n",
            "Office supplies and stationery stores (45321)                                                                   -0.6247      1.180     -0.529      0.597      -2.938       1.688\n",
            "Used merchandise stores (4533)                                                                                  -7.1789      1.270     -5.653      0.000      -9.668      -4.690\n",
            "Gift, novelty, and souvenir shops (45322)                                                                       -4.6800      1.547     -3.026      0.002      -7.711      -1.649\n",
            "Miscellaneous retail stores (4539)                                                                              -0.7205      0.739     -0.975      0.329      -2.169       0.728\n",
            "*** Electronic shopping (New industry *454111)                                                                   0.8054      0.790      1.020      0.308      -0.743       2.354\n",
            "*** Electronic auctions (New industrys*454112)                                                                   4.0338      3.089      1.306      0.192      -2.020      10.088\n",
            "** Mail order houses (*454113)                                                                                  -0.9866      1.674     -0.589      0.556      -4.267       2.294\n",
            "Vending machine operators (4542)                                                                                 0.7768      2.095      0.371      0.711      -3.329       4.883\n",
            "Fuel dealers (45431)                                                                                            -2.3537      1.309     -1.798      0.072      -4.919       0.212\n",
            "Other direct selling establishments (45439)                                                                     -1.2169      1.688     -0.721      0.471      -4.526       2.092\n",
            "Not specified retail trade (Part of 44, 45)                                                                     -2.4455      0.818     -2.990      0.003      -4.049      -0.842\n",
            "Air transportation (481)                                                                                         2.6545      0.571      4.650      0.000       1.536       3.773\n",
            "Rail transportation (482)                                                                                        6.2445      0.768      8.136      0.000       4.740       7.749\n",
            "Water transportation (483)                                                                                       0.9980      1.524      0.655      0.513      -1.989       3.985\n",
            "Truck transportation (484)                                                                                      -2.3947      0.340     -7.052      0.000      -3.060      -1.729\n",
            "Bus service and urban transit (4851, 4852, 4854, 4855, 4859)                                                    -1.4594      0.631     -2.312      0.021      -2.697      -0.222\n",
            "Taxi and limousine service (4853)                                                                               -7.1832      0.807     -8.905      0.000      -8.764      -5.602\n",
            "Pipeline transportation (486)                                                                                    7.6055      1.392      5.464      0.000       4.877      10.334\n",
            "Scenic and sightseeing transportation (487)                                                                     -3.2576      2.218     -1.469      0.142      -7.605       1.089\n",
            "Services incidental to transportation (488)                                                                      0.1277      0.493      0.259      0.796      -0.839       1.094\n",
            "Postal Service (491)                                                                                            -0.5894      0.527     -1.119      0.263      -1.622       0.443\n",
            "Couriers and messengers (492)                                                                                   -0.3256      0.541     -0.602      0.547      -1.386       0.734\n",
            "Warehousing and storage (493)                                                                                   -3.4638      0.566     -6.124      0.000      -4.572      -2.355\n",
            "**Newspaper publishers (51111)                                                                                  -2.6111      0.995     -2.624      0.009      -4.561      -0.661\n",
            "**Publishing, except newspapers and software (5111 exc. 51111)                                                   2.4199      0.984      2.460      0.014       0.492       4.348\n",
            "Software publishing (5112)                                                                                      16.3308      1.464     11.158      0.000      13.462      19.199\n",
            "Motion pictures and video industries (5121)                                                                      2.6552      0.810      3.278      0.001       1.068       4.243\n",
            "Sound recording industries (5122)                                                                                2.4318      3.288      0.739      0.460      -4.013       8.877\n",
            "Radio and television broadcasting and cable (5151, 5152, 5175)                                                   2.0844      0.570      3.658      0.000       0.968       3.201\n",
            "Internet publishing and broadcasting and web search portals (51913)                                             17.8598      1.112     16.058      0.000      15.680      20.040\n",
            "Wired telecommunications carriers (*5171)                                                                        3.7887      0.615      6.160      0.000       2.583       4.994\n",
            "Other telecommunications services (*517 exc. 5171, 5175)                                                         3.9496      0.626      6.311      0.000       2.723       5.176\n",
            "**** Data processing, hosting, and related services (*5182)                                                      2.2580      1.376      1.641      0.101      -0.438       4.954\n",
            "Libraries and archives (*51912)                                                                                 -3.6742      1.125     -3.265      0.001      -5.880      -1.469\n",
            "Other information services (*5191 exc. 51912)                                                                    5.6851      2.218      2.563      0.010       1.338      10.033\n",
            "Banking and related activities (521, 52211,52219)                                                                3.5209      0.291     12.107      0.000       2.951       4.091\n",
            "Savings institutions, including credit unions (52212, 52213)                                                    -0.0749      0.733     -0.102      0.919      -1.512       1.362\n",
            "Non-depository credit and related activities (5222, 5223)                                                        4.9472      0.432     11.459      0.000       4.101       5.793\n",
            "Securities, commodities, funds, trusts, and other financial investments (523, 525)                               7.4364      0.406     18.312      0.000       6.640       8.232\n",
            "Insurance carriers and related activities (524)                                                                  2.8805      0.266     10.809      0.000       2.358       3.403\n",
            "Real estate (531)                                                                                                0.7466      0.322      2.319      0.020       0.116       1.378\n",
            "Automotive equipment rental and leasing (5321)                                                                  -3.3019      1.116     -2.960      0.003      -5.489      -1.115\n",
            "Video tape and disk rental (53223)                                                                              -5.3465      5.198     -1.029      0.304     -15.535       4.842\n",
            "Other consumer goods rental (53221, 53222, 53229, 5323)                                                         -2.9238      1.426     -2.050      0.040      -5.719      -0.129\n",
            "Commercial, industrial, and other intangible assets rental and leasing (5324, 533)                               1.7759      1.223      1.453      0.146      -0.620       4.172\n",
            "Legal services (5411)                                                                                            4.7970      0.369     13.014      0.000       4.075       5.519\n",
            "Accounting, tax preparation, bookkeeping, and payroll services (5412)                                            3.3690      0.458      7.353      0.000       2.471       4.267\n",
            "Architectural, engineering, and related services (5413)                                                          4.8568      0.335     14.486      0.000       4.200       5.514\n",
            "Specialized design services (5414)                                                                               0.5616      0.998      0.563      0.574      -1.395       2.518\n",
            "Computer systems design and related services (5415)                                                              9.1270      0.254     35.864      0.000       8.628       9.626\n",
            "Management, scientific, and technical consulting services (5416)                                                 6.0425      0.399     15.150      0.000       5.261       6.824\n",
            "Scientific research and development services (5417)                                                              6.7794      0.500     13.547      0.000       5.799       7.760\n",
            "Advertising and related services (5418)                                                                          4.0041      0.607      6.601      0.000       2.815       5.193\n",
            "Veterinary services (54194)                                                                                     -0.1024      0.747     -0.137      0.891      -1.567       1.363\n",
            "Other professional, scientific, and technical services (5419 exc. 54194)                                         2.6902      0.832      3.234      0.001       1.060       4.320\n",
            "Management of companies and enterprises (551)                                                                   -0.1105      0.989     -0.112      0.911      -2.049       1.828\n",
            "Employment services (5613)                                                                                      -0.4430      0.475     -0.932      0.351      -1.375       0.489\n",
            "Business support services (5614)                                                                                -1.6104      0.559     -2.883      0.004      -2.705      -0.515\n",
            "Travel arrangements and reservation services (5615)                                                              0.9438      0.855      1.103      0.270      -0.733       2.620\n",
            "Investigation and security services (5616)                                                                      -2.9780      0.499     -5.963      0.000      -3.957      -1.999\n",
            "** Services to buildings and dwellings (5617 exc. 56173)                                                        -4.3668      0.459     -9.511      0.000      -5.267      -3.467\n",
            "Landscaping services (56173)                                                                                    -4.5935      0.479     -9.594      0.000      -5.532      -3.655\n",
            "Other administrative and other support services (5611, 5612, 5619)                                              -1.4557      0.782     -1.861      0.063      -2.989       0.078\n",
            "Waste management and remediation services (562)                                                                 -1.2997      0.596     -2.182      0.029      -2.467      -0.132\n",
            "Elementary and secondary schools (6111)                                                                         -2.7415      0.172    -15.948      0.000      -3.078      -2.405\n",
            "Colleges and universities, including junior colleges (6112, 6113)                                                0.4983      0.247      2.014      0.044       0.013       0.983\n",
            "Business, technical, and trade schools and training (6114, 6115)                                                 0.9969      1.546      0.645      0.519      -2.034       4.028\n",
            "Other schools, instruction, and educational services (6116, 6117)                                                0.7826      0.690      1.135      0.256      -0.569       2.134\n",
            "Offices of physicians (6211)                                                                                     1.4925      0.365      4.086      0.000       0.777       2.208\n",
            "Offices of dentists (6212)                                                                                       1.3278      0.553      2.402      0.016       0.244       2.411\n",
            "Offices of chiropractors (62131)                                                                                -1.1101      1.633     -0.680      0.497      -4.310       2.090\n",
            "Offices of optometrists (62132)                                                                                 -1.0164      1.108     -0.917      0.359      -3.188       1.155\n",
            "Offices of other health practitioners (6213 exc. 62131, 62132)                                                  -0.1019      1.152     -0.088      0.930      -2.359       2.156\n",
            "Outpatient care centers (6214)                                                                                  -0.0042      0.323     -0.013      0.990      -0.638       0.630\n",
            "Home health care services (6216)                                                                                -2.6276      0.435     -6.043      0.000      -3.480      -1.775\n",
            "Other health care services (6215, 6219)                                                                          1.1562      0.364      3.177      0.001       0.443       1.869\n",
            "Hospitals (622)                                                                                                  2.5018      0.181     13.849      0.000       2.148       2.856\n",
            "Nursing care facilities (6231)                                                                                  -2.3920      0.354     -6.758      0.000      -3.086      -1.698\n",
            "Residential care facilities, without nursing (6232, 6233, 6239)                                                 -3.0856      0.471     -6.548      0.000      -4.009      -2.162\n",
            "Individual and family services (6241)                                                                           -3.4750      0.370     -9.386      0.000      -4.201      -2.749\n",
            "Community food and housing, and emergency services (6242)                                                       -1.5053      1.212     -1.242      0.214      -3.880       0.870\n",
            "Vocational rehabilitation services (6243)                                                                       -6.9479      1.503     -4.623      0.000      -9.894      -4.002\n",
            "Child day care services (6244)                                                                                  -4.5292      0.446    -10.166      0.000      -5.403      -3.656\n",
            "Independent artists, performing arts, spectator sports, and related industries (711)                            -0.4777      0.740     -0.645      0.519      -1.929       0.973\n",
            "Museums, art galleries, historical sites, and similar institutions (712)                                        -2.7548      0.764     -3.603      0.000      -4.253      -1.256\n",
            "Bowling centers (71395)                                                                                         -7.0844      2.548     -2.781      0.005     -12.078      -2.091\n",
            "Other amusement, gambling, and recreation industries (713 exc. 71395)                                           -3.5575      0.364     -9.763      0.000      -4.272      -2.843\n",
            "Traveler accommodation (7211)                                                                                   -3.4342      0.377     -9.118      0.000      -4.172      -2.696\n",
            "Recreational vehicle parks and camps, and rooming and boarding houses (7212, 7213)                              -5.1546      1.524     -3.382      0.001      -8.142      -2.167\n",
            "Restaurants and other food services (722 exc. 7224)                                                             -3.7193      0.206    -18.024      0.000      -4.124      -3.315\n",
            "Drinking places, alcoholic beverages (7224)                                                                     -6.1816      1.166     -5.304      0.000      -8.466      -3.897\n",
            "Automotive repair and maintenance (8111 exc. 811192)                                                            -1.6164      0.416     -3.882      0.000      -2.432      -0.800\n",
            "Car washes (811192)                                                                                             -4.3159      1.277     -3.381      0.001      -6.818      -1.814\n",
            "Electronic and precision equipment repair and maintenance (8112)                                                -1.8262      1.417     -1.289      0.198      -4.604       0.952\n",
            "Commercial and industrial machinery and equipment repair and maintenance (8113)                                 -0.0141      0.834     -0.017      0.986      -1.648       1.620\n",
            "Personal and household goods repair and maintenance (8114 exc. 81143)                                           -1.6979      1.392     -1.220      0.222      -4.426       1.030\n",
            "Barber shops (812111)                                                                                           -3.9395      2.015     -1.955      0.051      -7.889       0.010\n",
            "Beauty salons (812112)                                                                                          -2.5836      0.665     -3.886      0.000      -3.887      -1.280\n",
            "Nail salons and other personal care services (812113, 81219)                                                    -4.1256      0.815     -5.060      0.000      -5.724      -2.528\n",
            "Drycleaning and laundry services (8123)                                                                         -4.8369      0.907     -5.333      0.000      -6.615      -3.059\n",
            "Funeral homes, cemeteries, and crematories (8122)                                                               -4.0636      1.384     -2.937      0.003      -6.776      -1.352\n",
            "Other personal services (8129)                                                                                  -3.0519      0.911     -3.349      0.001      -4.838      -1.266\n",
            "Religious organizations (8131)                                                                                  -4.6473      0.483     -9.620      0.000      -5.594      -3.700\n",
            "Civic, social, advocacy organizations, and grantmaking and giving services (8132, 8133, 8134)                    1.0378      0.465      2.230      0.026       0.126       1.950\n",
            "Labor unions (81393)                                                                                             5.6813      1.546      3.674      0.000       2.651       8.712\n",
            "Business, professional, political, and similar organizations (8139 exc. 81393)                                   4.5279      0.890      5.088      0.000       2.784       6.272\n",
            "Private households (814)                                                                                        -5.1202      0.717     -7.137      0.000      -6.526      -3.714\n",
            "Executive offices and legislative bodies (92111, 92112, 92114, pt. 92115)                                        0.8215      0.359      2.286      0.022       0.117       1.526\n",
            "Public finance activities (92113)                                                                                4.2691      0.655      6.516      0.000       2.985       5.553\n",
            "Other general government and support (92119)                                                                     2.2526      1.151      1.957      0.050      -0.004       4.509\n",
            "Justice, public order, and safety activities (922, pt. 92115)                                                    0.3557      0.247      1.437      0.151      -0.129       0.841\n",
            "Administration of human resource programs (923)                                                                  0.5986      0.389      1.537      0.124      -0.165       1.362\n",
            "Administration of environmental quality and housing programs (924, 925)                                          2.2861      0.649      3.525      0.000       1.015       3.557\n",
            "Administration of economic programs and space research (926, 927)                                                5.1066      0.484     10.551      0.000       4.158       6.055\n",
            "National security and international affairs (928)                                                                5.6967      0.380     14.993      0.000       4.952       6.441\n",
            "Armed Forces                                                                                                          0          0        nan        nan           0           0\n",
            "==============================================================================\n",
            "Omnibus:                    18522.714   Durbin-Watson:                   1.864\n",
            "Prob(Omnibus):                  0.000   Jarque-Bera (JB):            33231.234\n",
            "Skew:                           0.979   Prob(JB):                         0.00\n",
            "Kurtosis:                       4.635   Cond. No.                     3.00e+19\n",
            "==============================================================================\n",
            "\n",
            "Notes:\n",
            "[1] Standard Errors assume that the covariance matrix of the errors is correctly specified.\n",
            "[2] The smallest eigenvalue is 7.4e-28. This might indicate that there are\n",
            "strong multicollinearity problems or that the design matrix is singular.\n"
          ]
        }
      ],
      "source": [
        "dropped_subset3 = pd.concat([subset.loc[:, ['sex', 'age', 'age squared', 'average hourly rate', 'High School Graduate', 'College Graduate']], pd.get_dummies(subset.loc[:, 'ind02'])], axis = 1).dropna()\n",
        "y3 = dropped_subset3.loc[:, 'average hourly rate'].to_numpy()\n",
        "X3 = dropped_subset3.loc[:, dropped_subset3.columns[dropped_subset3.columns != 'average hourly rate']]\n",
        "X3 = sm.add_constant(X3)\n",
        "model3 = sm.OLS(y3, X3)\n",
        "results3 = model3.fit()\n",
        "print(results3.summary())"
      ]
    },
    {
      "cell_type": "code",
      "execution_count": 103,
      "metadata": {},
      "outputs": [
        {
          "name": "stdout",
          "output_type": "stream",
          "text": [
            "According to the linear regression, accounting for age, graduated education level, and industry, the average gender wage gap is $ 4.54 / hour.\n"
          ]
        }
      ],
      "source": [
        "print(f\"According to the linear regression, accounting for age, graduated education level, and industry, the average gender wage gap is ${abs(results3.params['sex']): .2f} / hour.\")"
      ]
    },
    {
      "attachments": {},
      "cell_type": "markdown",
      "metadata": {},
      "source": [
        "Exercise 13: Understanding the Wage Gap Accounting for Industry"
      ]
    },
    {
      "attachments": {},
      "cell_type": "markdown",
      "metadata": {},
      "source": [
        "Accounting for industry, the counter-factual groups are men and women within the same industry."
      ]
    },
    {
      "attachments": {},
      "cell_type": "markdown",
      "metadata": {},
      "source": [
        "Exercise 14: Comparing Wage Gap Estimate Accounting for Industry Effects"
      ]
    },
    {
      "attachments": {},
      "cell_type": "markdown",
      "metadata": {},
      "source": [
        "When accounting for industry, as opposed to simply accounting for age and education, the wage gap reduced.  This suggests that women are more likely to work in lower paid industries."
      ]
    }
  ],
  "metadata": {
    "colab": {
      "provenance": []
    },
    "kernelspec": {
      "display_name": "base",
      "language": "python",
      "name": "python3"
    },
    "language_info": {
      "codemirror_mode": {
        "name": "ipython",
        "version": 3
      },
      "file_extension": ".py",
      "mimetype": "text/x-python",
      "name": "python",
      "nbconvert_exporter": "python",
      "pygments_lexer": "ipython3",
      "version": "3.10.6"
    },
    "orig_nbformat": 4,
    "vscode": {
      "interpreter": {
        "hash": "72db1ef4dcd6e2344e9289c13171ece59739274764f83c0b8f73f911c07b82ff"
      }
    }
  },
  "nbformat": 4,
  "nbformat_minor": 0
}

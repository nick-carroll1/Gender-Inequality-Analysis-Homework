{
  "cells": [
    {
      "cell_type": "markdown",
      "metadata": {
        "id": "1r8LB1JcInWa"
      },
      "source": [
        "Nick Carroll, Yueyin Su\n",
        "<br>\n",
        "Unifying Data Science\n",
        "<br>\n",
        "Estimating Gender Discrimination in the Workplace"
      ]
    },
    {
      "cell_type": "markdown",
      "metadata": {
        "id": "M_FyCVbwInWf"
      },
      "source": [
        "Exercise 1: Loading Data"
      ]
    },
    {
      "cell_type": "code",
      "execution_count": 1,
      "metadata": {
        "id": "J1gnFWvQInWg"
      },
      "outputs": [],
      "source": [
        "import pandas as pd\n",
        "data = pd.read_stata('https://github.com/nickeubank/MIDS_Data/raw/master/Current_Population_Survey/morg18.dta')"
      ]
    },
    {
      "cell_type": "markdown",
      "metadata": {
        "id": "VgWxGGDlInWj"
      },
      "source": [
        "Exercise 2: Subsetting Data"
      ]
    },
    {
      "cell_type": "markdown",
      "metadata": {
        "id": "XdHHmbupInWl"
      },
      "source": [
        "Data is subset for people who are full time and employed."
      ]
    },
    {
      "cell_type": "code",
      "execution_count": 2,
      "metadata": {
        "id": "YYCOd47uInWm"
      },
      "outputs": [],
      "source": [
        "subset = data.loc[(data.loc[:, 'lfsr94'] == 'Employed-At Work') & (data.loc[:, 'uhourse'] >= 35), :]"
      ]
    },
    {
      "cell_type": "markdown",
      "metadata": {
        "id": "AWkkAEsqInWn"
      },
      "source": [
        "Exercise 3: Basic Wage Gap Estimate"
      ]
    },
    {
      "cell_type": "code",
      "execution_count": null,
      "metadata": {
        "id": "cPEUXaBTInWo",
        "outputId": "afa62107-5598-41dc-dad7-77b752c4a73d"
      },
      "outputs": [
        {
          "data": {
            "text/plain": [
              "array([40., 36., 48., 35., 44., 50., 45., 60., 41., 70., 75., 80., 56.,\n",
              "       96., 82., 38., 55., 52., 77., 84., 42., 43., 54., 53., 65., 37.,\n",
              "       72., 61., 99., 58., 47., 63., 46., 39., 49., 66., 57., 90., 62.,\n",
              "       85., 87., 68., 69., 76., 83., 98., 51., 78., 64., 67., 92., 95.,\n",
              "       74., 88., 86., 81., 59., 71., 73., 91., 89., 94.])"
            ]
          },
          "execution_count": 44,
          "metadata": {},
          "output_type": "execute_result"
        }
      ],
      "source": [
        "subset.loc[:, 'uhourse'].unique()"
      ]
    },
    {
      "cell_type": "code",
      "execution_count": 4,
      "metadata": {
        "id": "AGBB9bzSInWq"
      },
      "outputs": [],
      "source": [
        "%%capture --no-display\n",
        "subset.loc[:, 'average hourly rate'] = subset.loc[:, 'earnwke'] / subset.loc[:, 'uhourse']"
      ]
    },
    {
      "cell_type": "code",
      "execution_count": 6,
      "metadata": {
        "id": "LTSDrrh6InWr"
      },
      "outputs": [],
      "source": [
        "men_subset = subset.loc[subset.loc[:, 'sex'] == 1]\n",
        "women_subset = subset.loc[subset.loc[:, 'sex'] == 2]"
      ]
    },
    {
      "cell_type": "code",
      "execution_count": 7,
      "metadata": {
        "colab": {
          "base_uri": "https://localhost:8080/"
        },
        "id": "07r8HXfOInWr",
        "outputId": "b5aeeb92-1803-423d-d2ef-ea2ae296e9a0"
      },
      "outputs": [
        {
          "output_type": "stream",
          "name": "stdout",
          "text": [
            "7946\n",
            "3265\n"
          ]
        }
      ],
      "source": [
        "# checking about missing values\n",
        "print(men_subset.loc[:, 'average hourly rate'].isna().sum())\n",
        "print(women_subset.loc[:, 'average hourly rate'].isna().sum())"
      ]
    },
    {
      "cell_type": "code",
      "execution_count": 13,
      "metadata": {
        "colab": {
          "base_uri": "https://localhost:8080/"
        },
        "id": "iXtLENt-InWs",
        "outputId": "fdee94f5-316d-4000-c1d9-53fb5850ca14"
      },
      "outputs": [
        {
          "output_type": "stream",
          "name": "stdout",
          "text": [
            "The gender wage gap is: 4.080172337386848\n"
          ]
        }
      ],
      "source": [
        "print(\"The gender wage gap is:\",men_subset.loc[:, 'average hourly rate'].mean()- women_subset.loc[:, 'average hourly rate'].mean())"
      ]
    },
    {
      "cell_type": "code",
      "execution_count": null,
      "metadata": {
        "id": "LG40k8C8InWt",
        "outputId": "85c2a761-d870-4928-8d25-7a820efdf78f"
      },
      "outputs": [
        {
          "data": {
            "text/html": [
              "<div>\n",
              "<style scoped>\n",
              "    .dataframe tbody tr th:only-of-type {\n",
              "        vertical-align: middle;\n",
              "    }\n",
              "\n",
              "    .dataframe tbody tr th {\n",
              "        vertical-align: top;\n",
              "    }\n",
              "\n",
              "    .dataframe thead th {\n",
              "        text-align: right;\n",
              "    }\n",
              "</style>\n",
              "<table border=\"1\" class=\"dataframe\">\n",
              "  <thead>\n",
              "    <tr style=\"text-align: right;\">\n",
              "      <th></th>\n",
              "      <th>earnwke</th>\n",
              "      <th>uhourse</th>\n",
              "      <th>average hourly rate</th>\n",
              "      <th>lfsr94</th>\n",
              "      <th>sex</th>\n",
              "    </tr>\n",
              "  </thead>\n",
              "  <tbody>\n",
              "    <tr>\n",
              "      <th>89</th>\n",
              "      <td>NaN</td>\n",
              "      <td>50.0</td>\n",
              "      <td>NaN</td>\n",
              "      <td>Employed-At Work</td>\n",
              "      <td>1</td>\n",
              "    </tr>\n",
              "    <tr>\n",
              "      <th>108</th>\n",
              "      <td>NaN</td>\n",
              "      <td>40.0</td>\n",
              "      <td>NaN</td>\n",
              "      <td>Employed-At Work</td>\n",
              "      <td>1</td>\n",
              "    </tr>\n",
              "    <tr>\n",
              "      <th>167</th>\n",
              "      <td>NaN</td>\n",
              "      <td>60.0</td>\n",
              "      <td>NaN</td>\n",
              "      <td>Employed-At Work</td>\n",
              "      <td>1</td>\n",
              "    </tr>\n",
              "    <tr>\n",
              "      <th>169</th>\n",
              "      <td>NaN</td>\n",
              "      <td>40.0</td>\n",
              "      <td>NaN</td>\n",
              "      <td>Employed-At Work</td>\n",
              "      <td>1</td>\n",
              "    </tr>\n",
              "    <tr>\n",
              "      <th>306</th>\n",
              "      <td>NaN</td>\n",
              "      <td>60.0</td>\n",
              "      <td>NaN</td>\n",
              "      <td>Employed-At Work</td>\n",
              "      <td>1</td>\n",
              "    </tr>\n",
              "    <tr>\n",
              "      <th>...</th>\n",
              "      <td>...</td>\n",
              "      <td>...</td>\n",
              "      <td>...</td>\n",
              "      <td>...</td>\n",
              "      <td>...</td>\n",
              "    </tr>\n",
              "    <tr>\n",
              "      <th>302226</th>\n",
              "      <td>NaN</td>\n",
              "      <td>60.0</td>\n",
              "      <td>NaN</td>\n",
              "      <td>Employed-At Work</td>\n",
              "      <td>2</td>\n",
              "    </tr>\n",
              "    <tr>\n",
              "      <th>302300</th>\n",
              "      <td>NaN</td>\n",
              "      <td>50.0</td>\n",
              "      <td>NaN</td>\n",
              "      <td>Employed-At Work</td>\n",
              "      <td>1</td>\n",
              "    </tr>\n",
              "    <tr>\n",
              "      <th>302310</th>\n",
              "      <td>NaN</td>\n",
              "      <td>50.0</td>\n",
              "      <td>NaN</td>\n",
              "      <td>Employed-At Work</td>\n",
              "      <td>1</td>\n",
              "    </tr>\n",
              "    <tr>\n",
              "      <th>302314</th>\n",
              "      <td>NaN</td>\n",
              "      <td>50.0</td>\n",
              "      <td>NaN</td>\n",
              "      <td>Employed-At Work</td>\n",
              "      <td>1</td>\n",
              "    </tr>\n",
              "    <tr>\n",
              "      <th>302326</th>\n",
              "      <td>NaN</td>\n",
              "      <td>47.0</td>\n",
              "      <td>NaN</td>\n",
              "      <td>Employed-At Work</td>\n",
              "      <td>1</td>\n",
              "    </tr>\n",
              "  </tbody>\n",
              "</table>\n",
              "<p>11211 rows × 5 columns</p>\n",
              "</div>"
            ],
            "text/plain": [
              "        earnwke  uhourse  average hourly rate            lfsr94  sex\n",
              "89          NaN     50.0                  NaN  Employed-At Work    1\n",
              "108         NaN     40.0                  NaN  Employed-At Work    1\n",
              "167         NaN     60.0                  NaN  Employed-At Work    1\n",
              "169         NaN     40.0                  NaN  Employed-At Work    1\n",
              "306         NaN     60.0                  NaN  Employed-At Work    1\n",
              "...         ...      ...                  ...               ...  ...\n",
              "302226      NaN     60.0                  NaN  Employed-At Work    2\n",
              "302300      NaN     50.0                  NaN  Employed-At Work    1\n",
              "302310      NaN     50.0                  NaN  Employed-At Work    1\n",
              "302314      NaN     50.0                  NaN  Employed-At Work    1\n",
              "302326      NaN     47.0                  NaN  Employed-At Work    1\n",
              "\n",
              "[11211 rows x 5 columns]"
            ]
          },
          "execution_count": 50,
          "metadata": {},
          "output_type": "execute_result"
        }
      ],
      "source": [
        "subset.loc[subset.loc[:, 'earnwke'].isna(), ['earnwke', 'uhourse', 'average hourly rate', 'lfsr94', 'sex']]"
      ]
    },
    {
      "cell_type": "code",
      "execution_count": null,
      "metadata": {
        "id": "k5zE5qzmInWu"
      },
      "outputs": [],
      "source": []
    }
  ],
  "metadata": {
    "kernelspec": {
      "display_name": "base",
      "language": "python",
      "name": "python3"
    },
    "language_info": {
      "codemirror_mode": {
        "name": "ipython",
        "version": 3
      },
      "file_extension": ".py",
      "mimetype": "text/x-python",
      "name": "python",
      "nbconvert_exporter": "python",
      "pygments_lexer": "ipython3",
      "version": "3.10.6"
    },
    "orig_nbformat": 4,
    "vscode": {
      "interpreter": {
        "hash": "72db1ef4dcd6e2344e9289c13171ece59739274764f83c0b8f73f911c07b82ff"
      }
    },
    "colab": {
      "provenance": []
    }
  },
  "nbformat": 4,
  "nbformat_minor": 0
}